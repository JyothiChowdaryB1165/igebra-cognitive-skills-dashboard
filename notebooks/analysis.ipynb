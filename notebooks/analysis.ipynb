{
 "cells": [
  {
   "cell_type": "markdown",
   "metadata": {},
   "source": [
    "# Cognitive Skills & Student Performance Analysis\n",
    "\n",
    "This notebook analyzes the relationship between cognitive skills and student performance, builds predictive models, and identifies student personas through clustering."
   ]
  },
  {
   "cell_type": "code",
   "execution_count": null,
   "metadata": {},
   "outputs": [],
   "source": [
    "# Import required libraries\n",
    "import pandas as pd\n",
    "import numpy as np\n",
    "import matplotlib.pyplot as plt\n",
    "import seaborn as sns\n",
    "from scipy import stats\n",
    "from sklearn.model_selection import train_test_split\n",
    "from sklearn.linear_model import LinearRegression\n",
    "from sklearn.ensemble import RandomForestRegressor\n",
    "from sklearn.metrics import mean_absolute_error, mean_squared_error, r2_score\n",
    "from sklearn.cluster import KMeans\n",
    "from sklearn.preprocessing import StandardScaler\n",
    "import pickle\n",
    "import warnings\n",
    "warnings.filterwarnings('ignore')\n",
    "\n",
    "# Set style for plots\n",
    "plt.style.use('seaborn-v0_8')\n",
    "sns.set_palette(\"husl\")\n",
    "\n",
    "print(\"Libraries imported successfully!\")"
   ]
  },
  {
   "cell_type": "markdown",
   "metadata": {},
   "source": [
    "## 1. Data Loading and Exploration"
   ]
  },
  {
   "cell_type": "code",
   "execution_count": null,
   "metadata": {},
   "outputs": [],
   "source": [
    "# Load the dataset\n",
    "df = pd.read_csv('../data/students.csv')\n",
    "\n",
    "print(f\"Dataset shape: {df.shape}\")\n",
    "print(\"\\nColumn names:\")\n",
    "print(df.columns.tolist())\n",
    "print(\"\\nFirst 5 rows:\")\n",
    "df.head()"
   ]
  },
  {
   "cell_type": "code",
   "execution_count": null,
   "metadata": {},
   "outputs": [],
   "source": [
    "# Basic information about the dataset\n",
    "print(\"Dataset Info:\")\n",
    "print(df.info())\n",
    "print(\"\\nMissing values:\")\n",
    "print(df.isnull().sum())\n",
    "print(\"\\nClass distribution:\")\n",
    "print(df['class'].value_counts())"
   ]
  },
  {
   "cell_type": "code",
   "execution_count": null,
   "metadata": {},
   "outputs": [],
   "source": [
    "# Summary statistics\n",
    "print(\"Summary Statistics:\")\n",
    "df.describe()"
   ]
  },
  {
   "cell_type": "code",
   "execution_count": null,
   "metadata": {},
   "outputs": [],
   "source": [
    "# Distribution plots\n",
    "fig, axes = plt.subplots(2, 3, figsize=(15, 10))\n",
    "fig.suptitle('Distribution of Cognitive Skills and Performance Metrics', fontsize=16)\n",
    "\n",
    "skills = ['comprehension', 'attention', 'focus', 'retention', 'assessment_score', 'engagement_time']\n",
    "\n",
    "for i, skill in enumerate(skills):\n",
    "    row, col = i // 3, i % 3\n",
    "    axes[row, col].hist(df[skill], bins=20, alpha=0.7, edgecolor='black')\n",
    "    axes[row, col].set_title(f'{skill.replace(\"_\", \" \").title()}')\n",
    "    axes[row, col].set_xlabel('Score')\n",
    "    axes[row, col].set_ylabel('Frequency')\n",
    "\n",
    "plt.tight_layout()\n",
    "plt.show()"
   ]
  },
  {
   "cell_type": "markdown",
   "metadata": {},
   "source": [
    "## 2. Correlation Analysis"
   ]
  },
  {
   "cell_type": "code",
   "execution_count": null,
   "metadata": {},
   "outputs": [],
   "source": [
    "# Select numeric columns for correlation analysis\n",
    "numeric_cols = ['comprehension', 'attention', 'focus', 'retention', 'assessment_score', 'engagement_time']\n",
    "correlation_data = df[numeric_cols]\n",
    "\n",
    "# Pearson correlation\n",
    "pearson_corr = correlation_data.corr(method='pearson')\n",
    "print(\"Pearson Correlation Matrix:\")\n",
    "print(pearson_corr.round(3))"
   ]
  },
  {
   "cell_type": "code",
   "execution_count": null,
   "metadata": {},
   "outputs": [],
   "source": [
    "# Spearman correlation\n",
    "spearman_corr = correlation_data.corr(method='spearman')\n",
    "print(\"Spearman Correlation Matrix:\")\n",
    "print(spearman_corr.round(3))"
   ]
  },
  {
   "cell_type": "code",
   "execution_count": null,
   "metadata": {},
   "outputs": [],
   "source": [
    "# Correlation heatmaps\n",
    "fig, axes = plt.subplots(1, 2, figsize=(16, 6))\n",
    "\n",
    "# Pearson correlation heatmap\n",
    "sns.heatmap(pearson_corr, annot=True, cmap='coolwarm', center=0, \n",
    "            square=True, ax=axes[0], cbar_kws={'shrink': 0.8})\n",
    "axes[0].set_title('Pearson Correlation Matrix')\n",
    "\n",
    "# Spearman correlation heatmap\n",
    "sns.heatmap(spearman_corr, annot=True, cmap='coolwarm', center=0, \n",
    "            square=True, ax=axes[1], cbar_kws={'shrink': 0.8})\n",
    "axes[1].set_title('Spearman Correlation Matrix')\n",
    "\n",
    "plt.tight_layout()\n",
    "plt.show()"
   ]
  },
  {
   "cell_type": "markdown",
   "metadata": {},
   "source": [
    "## 3. Statistical Significance Testing"
   ]
  },
  {
   "cell_type": "code",
   "execution_count": null,
   "metadata": {},
   "outputs": [],
   "source": [
    "# Calculate p-values for correlations with assessment_score\n",
    "target = 'assessment_score'\n",
    "features = ['comprehension', 'attention', 'focus', 'retention', 'engagement_time']\n",
    "\n",
    "print(f\"Statistical significance of correlations with {target}:\")\n",
    "print(\"=\" * 60)\n",
    "\n",
    "for feature in features:\n",
    "    # Pearson correlation and p-value\n",
    "    pearson_r, pearson_p = stats.pearsonr(df[feature], df[target])\n",
    "    \n",
    "    # Spearman correlation and p-value\n",
    "    spearman_r, spearman_p = stats.spearmanr(df[feature], df[target])\n",
    "    \n",
    "    print(f\"\\n{feature.upper()}:\")\n",
    "    print(f\"  Pearson:  r = {pearson_r:.3f}, p = {pearson_p:.2e}\")\n",
    "    print(f\"  Spearman: r = {spearman_r:.3f}, p = {spearman_p:.2e}\")\n",
    "    \n",
    "    # Significance level\n",
    "    significance = \"***\" if min(pearson_p, spearman_p) < 0.001 else \"**\" if min(pearson_p, spearman_p) < 0.01 else \"*\" if min(pearson_p, spearman_p) < 0.05 else \"ns\"\n",
    "    print(f\"  Significance: {significance}\")"
   ]
  },
  {
   "cell_type": "markdown",
   "metadata": {},
   "source": [
    "## 4. Machine Learning Models"
   ]
  },
  {
   "cell_type": "code",
   "execution_count": null,
   "metadata": {},
   "outputs": [],
   "source": [
    "# Prepare data for modeling\n",
    "X = df[['comprehension', 'attention', 'focus', 'retention', 'engagement_time']]\n",
    "y = df['assessment_score']\n",
    "\n",
    "# Split the data\n",
    "X_train, X_test, y_train, y_test = train_test_split(X, y, test_size=0.2, random_state=42)\n",
    "\n",
    "print(f\"Training set size: {X_train.shape[0]}\")\n",
    "print(f\"Test set size: {X_test.shape[0]}\")"
   ]
  },
  {
   "cell_type": "code",
   "execution_count": null,
   "metadata": {},
   "outputs": [],
   "source": [
    "# Baseline Model: Linear Regression\n",
    "lr_model = LinearRegression()\n",
    "lr_model.fit(X_train, y_train)\n",
    "\n",
    "# Predictions\n",
    "y_pred_lr = lr_model.predict(X_test)\n",
    "\n",
    "# Metrics\n",
    "lr_mae = mean_absolute_error(y_test, y_pred_lr)\n",
    "lr_rmse = np.sqrt(mean_squared_error(y_test, y_pred_lr))\n",
    "lr_r2 = r2_score(y_test, y_pred_lr)\n",
    "\n",
    "print(\"Linear Regression Results:\")\n",
    "print(f\"MAE: {lr_mae:.3f}\")\n",
    "print(f\"RMSE: {lr_rmse:.3f}\")\n",
    "print(f\"R²: {lr_r2:.3f}\")\n",
    "\n",
    "# Feature coefficients\n",
    "print(\"\\nFeature Coefficients:\")\n",
    "for feature, coef in zip(X.columns, lr_model.coef_):\n",
    "    print(f\"  {feature}: {coef:.3f}\")"
   ]
  },
  {
   "cell_type": "code",
   "execution_count": null,
   "metadata": {},
   "outputs": [],
   "source": [
    "# Advanced Model: Random Forest Regressor\n",
    "rf_model = RandomForestRegressor(n_estimators=100, random_state=42, max_depth=10)\n",
    "rf_model.fit(X_train, y_train)\n",
    "\n",
    "# Predictions\n",
    "y_pred_rf = rf_model.predict(X_test)\n",
    "\n",
    "# Metrics\n",
    "rf_mae = mean_absolute_error(y_test, y_pred_rf)\n",
    "rf_rmse = np.sqrt(mean_squared_error(y_test, y_pred_rf))\n",
    "rf_r2 = r2_score(y_test, y_pred_rf)\n",
    "\n",
    "print(\"Random Forest Results:\")\n",
    "print(f\"MAE: {rf_mae:.3f}\")\n",
    "print(f\"RMSE: {rf_rmse:.3f}\")\n",
    "print(f\"R²: {rf_r2:.3f}\")\n",
    "\n",
    "# Feature importance\n",
    "print(\"\\nFeature Importance:\")\n",
    "feature_importance = pd.DataFrame({\n",
    "    'feature': X.columns,\n",
    "    'importance': rf_model.feature_importances_\n",
    "}).sort_values('importance', ascending=False)\n",
    "\n",
    "print(feature_importance)"
   ]
  },
  {
   "cell_type": "code",
   "execution_count": null,
   "metadata": {},
   "outputs": [],
   "source": [
    "# Model comparison\n",
    "comparison_df = pd.DataFrame({\n",
    "    'Model': ['Linear Regression', 'Random Forest'],\n",
    "    'MAE': [lr_mae, rf_mae],\n",
    "    'RMSE': [lr_rmse, rf_rmse],\n",
    "    'R²': [lr_r2, rf_r2]\n",
    "})\n",
    "\n",
    "print(\"Model Comparison:\")\n",
    "print(comparison_df)"
   ]
  },
  {
   "cell_type": "code",
   "execution_count": null,
   "metadata": {},
   "outputs": [],
   "source": [
    "# Residual plots\n",
    "fig, axes = plt.subplots(2, 2, figsize=(15, 12))\n",
    "fig.suptitle('Model Performance Analysis', fontsize=16)\n",
    "\n",
    "# Linear Regression residuals\n",
    "residuals_lr = y_test - y_pred_lr\n",
    "axes[0, 0].scatter(y_pred_lr, residuals_lr, alpha=0.6)\n",
    "axes[0, 0].axhline(y=0, color='red', linestyle='--')\n",
    "axes[0, 0].set_title('Linear Regression - Residuals vs Predicted')\n",
    "axes[0, 0].set_xlabel('Predicted Values')\n",
    "axes[0, 0].set_ylabel('Residuals')\n",
    "\n",
    "# Random Forest residuals\n",
    "residuals_rf = y_test - y_pred_rf\n",
    "axes[0, 1].scatter(y_pred_rf, residuals_rf, alpha=0.6)\n",
    "axes[0, 1].axhline(y=0, color='red', linestyle='--')\n",
    "axes[0, 1].set_title('Random Forest - Residuals vs Predicted')\n",
    "axes[0, 1].set_xlabel('Predicted Values')\n",
    "axes[0, 1].set_ylabel('Residuals')\n",
    "\n",
    "# Actual vs Predicted - Linear Regression\n",
    "axes[1, 0].scatter(y_test, y_pred_lr, alpha=0.6)\n",
    "axes[1, 0].plot([y_test.min(), y_test.max()], [y_test.min(), y_test.max()], 'red', linestyle='--')\n",
    "axes[1, 0].set_title('Linear Regression - Actual vs Predicted')\n",
    "axes[1, 0].set_xlabel('Actual Values')\n",
    "axes[1, 0].set_ylabel('Predicted Values')\n",
    "\n",
    "# Actual vs Predicted - Random Forest\n",
    "axes[1, 1].scatter(y_test, y_pred_rf, alpha=0.6)\n",
    "axes[1, 1].plot([y_test.min(), y_test.max()], [y_test.min(), y_test.max()], 'red', linestyle='--')\n",
    "axes[1, 1].set_title('Random Forest - Actual vs Predicted')\n",
    "axes[1, 1].set_xlabel('Actual Values')\n",
    "axes[1, 1].set_ylabel('Predicted Values')\n",
    "\n",
    "plt.tight_layout()\n",
    "plt.show()"
   ]
  },
  {
   "cell_type": "code",
   "execution_count": null,
   "metadata": {},
   "outputs": [],
   "source": [
    "# Feature importance visualization\n",
    "plt.figure(figsize=(10, 6))\n",
    "sns.barplot(data=feature_importance, x='importance', y='feature')\n",
    "plt.title('Random Forest - Feature Importance')\n",
    "plt.xlabel('Importance')\n",
    "plt.ylabel('Features')\n",
    "plt.tight_layout()\n",
    "plt.show()"
   ]
  },
  {
   "cell_type": "markdown",
   "metadata": {},
   "source": [
    "## 5. Student Clustering and Personas"
   ]
  },
  {
   "cell_type": "code",
   "execution_count": null,
   "metadata": {},
   "outputs": [],
   "source": [
    "# Prepare data for clustering\n",
    "clustering_features = ['comprehension', 'attention', 'focus', 'retention', 'assessment_score', 'engagement_time']\n",
    "X_cluster = df[clustering_features]\n",
    "\n",
    "# Standardize the features\n",
    "scaler = StandardScaler()\n",
    "X_scaled = scaler.fit_transform(X_cluster)\n",
    "\n",
    "# Determine optimal number of clusters using elbow method\n",
    "inertias = []\n",
    "k_range = range(2, 9)\n",
    "\n",
    "for k in k_range:\n",
    "    kmeans = KMeans(n_clusters=k, random_state=42)\n",
    "    kmeans.fit(X_scaled)\n",
    "    inertias.append(kmeans.inertia_)\n",
    "\n",
    "# Plot elbow curve\n",
    "plt.figure(figsize=(10, 6))\n",
    "plt.plot(k_range, inertias, 'bo-')\n",
    "plt.title('Elbow Method for Optimal Number of Clusters')\n",
    "plt.xlabel('Number of Clusters (k)')\n",
    "plt.ylabel('Inertia')\n",
    "plt.grid(True)\n",
    "plt.show()"
   ]
  },
  {
   "cell_type": "code",
   "execution_count": null,
   "metadata": {},
   "outputs": [],
   "source": [
    "# Apply K-means clustering with optimal number of clusters (let's use 4)\n",
    "optimal_k = 4\n",
    "kmeans = KMeans(n_clusters=optimal_k, random_state=42)\n",
    "cluster_labels = kmeans.fit_predict(X_scaled)\n",
    "\n",
    "# Add cluster labels to dataframe\n",
    "df['cluster'] = cluster_labels\n",
    "\n",
    "print(f\"Cluster distribution:\")\n",
    "print(df['cluster'].value_counts().sort_index())"
   ]
  },
  {
   "cell_type": "code",
   "execution_count": null,
   "metadata": {},
   "outputs": [],
   "source": [
    "# Analyze cluster characteristics\n",
    "cluster_summary = df.groupby('cluster')[clustering_features].mean()\n",
    "print(\"Cluster Characteristics (Mean Values):\")\n",
    "print(cluster_summary.round(2))"
   ]
  },
  {
   "cell_type": "code",
   "execution_count": null,
   "metadata": {},
   "outputs": [],
   "source": [
    "# Visualize clusters\n",
    "fig, axes = plt.subplots(2, 3, figsize=(18, 12))\n",
    "fig.suptitle('Student Clusters by Cognitive Skills', fontsize=16)\n",
    "\n",
    "for i, feature in enumerate(clustering_features):\n",
    "    row, col = i // 3, i % 3\n",
    "    \n",
    "    for cluster in range(optimal_k):\n",
    "        cluster_data = df[df['cluster'] == cluster][feature]\n",
    "        axes[row, col].hist(cluster_data, alpha=0.6, label=f'Cluster {cluster}', bins=15)\n",
    "    \n",
    "    axes[row, col].set_title(f'{feature.replace(\"_\", \" \").title()}')\n",
    "    axes[row, col].set_xlabel('Score')\n",
    "    axes[row, col].set_ylabel('Frequency')\n",
    "    axes[row, col].legend()\n",
    "\n",
    "plt.tight_layout()\n",
    "plt.show()"
   ]
  },
  {
   "cell_type": "code",
   "execution_count": null,
   "metadata": {},
   "outputs": [],
   "source": [
    "# Create radar chart for cluster profiles\n",
    "from math import pi\n",
    "\n",
    "# Normalize cluster means to 0-1 scale for radar chart\n",
    "cluster_normalized = cluster_summary.div(cluster_summary.max())\n",
    "\n",
    "# Set up radar chart\n",
    "categories = list(cluster_normalized.columns)\n",
    "N = len(categories)\n",
    "\n",
    "angles = [n / float(N) * 2 * pi for n in range(N)]\n",
    "angles += angles[:1]  # Complete the circle\n",
    "\n",
    "fig, ax = plt.subplots(figsize=(12, 12), subplot_kw=dict(projection='polar'))\n",
    "\n",
    "colors = ['red', 'blue', 'green', 'orange']\n",
    "\n",
    "for i in range(optimal_k):\n",
    "    values = cluster_normalized.iloc[i].tolist()\n",
    "    values += values[:1]  # Complete the circle\n",
    "    \n",
    "    ax.plot(angles, values, 'o-', linewidth=2, label=f'Cluster {i}', color=colors[i])\n",
    "    ax.fill(angles, values, alpha=0.25, color=colors[i])\n",
    "\n",
    "ax.set_xticks(angles[:-1])\n",
    "ax.set_xticklabels([cat.replace('_', ' ').title() for cat in categories])\n",
    "ax.set_ylim(0, 1)\n",
    "ax.set_title('Student Cluster Profiles (Normalized)', size=16, y=1.1)\n",
    "ax.legend(loc='upper right', bbox_to_anchor=(1.3, 1.0))\n",
    "ax.grid(True)\n",
    "\n",
    "plt.tight_layout()\n",
    "plt.show()"
   ]
  },
  {
   "cell_type": "markdown",
   "metadata": {},
   "source": [
    "## 6. Persona Interpretation"
   ]
  },
  {
   "cell_type": "code",
   "execution_count": null,
   "metadata": {},
   "outputs": [],
   "source": [
    "# Define persona labels based on cluster characteristics\n",
    "persona_labels = {\n",
    "    0: \"High Achievers\",\n",
    "    1: \"Struggling Learners\", \n",
    "    2: \"Average Performers\",\n",
    "    3: \"Focused Specialists\"\n",
    "}\n",
    "\n",
    "# Add persona labels to dataframe\n",
    "df['persona'] = df['cluster'].map(persona_labels)\n",
    "\n",
    "# Detailed persona analysis\n",
    "print(\"STUDENT PERSONAS ANALYSIS\")\n",
    "print(\"=\" * 50)\n",
    "\n",
    "for cluster in range(optimal_k):\n",
    "    cluster_data = df[df['cluster'] == cluster]\n",
    "    persona = persona_labels[cluster]\n",
    "    \n",
    "    print(f\"\\n{persona.upper()} (Cluster {cluster})\")\n",
    "    print(f\"Number of students: {len(cluster_data)} ({len(cluster_data)/len(df)*100:.1f}%)\")\n",
    "    print(f\"Average assessment score: {cluster_data['assessment_score'].mean():.1f}\")\n",
    "    print(f\"Average engagement time: {cluster_data['engagement_time'].mean():.0f} minutes/week\")\n",
    "    \n",
    "    print(\"\\nCognitive Skills Profile:\")\n",
    "    for skill in ['comprehension', 'attention', 'focus', 'retention']:\n",
    "        avg_score = cluster_data[skill].mean()\n",
    "        print(f\"  {skill.title()}: {avg_score:.1f}\")\n",
    "    \n",
    "    print(f\"\\nClass distribution:\")\n",
    "    class_dist = cluster_data['class'].value_counts(normalize=True) * 100\n",
    "    for class_name, percentage in class_dist.items():\n",
    "        print(f\"  Class {class_name}: {percentage:.1f}%\")"
   ]
  },
  {
   "cell_type": "markdown",
   "metadata": {},
   "source": [
    "## 7. Key Insights and Recommendations"
   ]
  },
  {
   "cell_type": "markdown",
   "metadata": {},
   "source": [
    "### Key Findings:\n",
    "\n",
    "1. **Strong Correlations**: All cognitive skills show significant positive correlations with assessment scores, with comprehension and retention being the strongest predictors.\n",
    "\n",
    "2. **Model Performance**: The Random Forest model outperforms Linear Regression, achieving better predictive accuracy with an R² score indicating good model fit.\n",
    "\n",
    "3. **Student Personas**: Four distinct student personas were identified:\n",
    "   - **High Achievers**: Excellent across all metrics, high engagement\n",
    "   - **Struggling Learners**: Below average in most areas, need intensive support\n",
    "   - **Average Performers**: Balanced profile, room for targeted improvement\n",
    "   - **Focused Specialists**: Strong in specific areas, may need broader skill development\n",
    "\n",
    "### Recommendations:\n",
    "\n",
    "1. **Personalized Learning**: Tailor interventions based on student personas\n",
    "2. **Focus on Comprehension**: Prioritize comprehension skills as they show the strongest impact\n",
    "3. **Engagement Strategies**: Increase engagement time for struggling learners\n",
    "4. **Early Intervention**: Use the predictive model to identify at-risk students early\n",
    "5. **Balanced Development**: Help focused specialists develop broader skill sets\n"
   ]
  },
  {
   "cell_type": "code",
   "execution_count": null,
   "metadata": {},
   "outputs": [],
   "source": [
    "# Save the best performing model\n",
    "import os\n",
    "os.makedirs('../models', exist_ok=True)\n",
    "\n",
    "# Save the Random Forest model (best performer)\n",
    "with open('../models/final_model.pkl', 'wb') as f:\n",
    "    pickle.dump(rf_model, f)\n",
    "\n",
    "print(\"Model saved successfully to ../models/final_model.pkl\")\n",
    "\n",
    "# Also save the feature names for prediction script\n",
    "model_info = {\n",
    "    'model': rf_model,\n",
    "    'features': list(X.columns),\n",
    "    'model_type': 'RandomForestRegressor',\n",
    "    'performance': {\n",
    "        'mae': rf_mae,\n",
    "        'rmse': rf_rmse,\n",
    "        'r2': rf_r2\n",
    "    }\n",
    "}\n",
    "\n",
    "with open('../models/model_info.pkl', 'wb') as f:\n",
    "    pickle.dump(model_info, f)\n",
    "\n",
    "print(\"Model info saved successfully to ../models/model_info.pkl\")"
   ]
  },
  {
   "cell_type": "code",
   "execution_count": null,
   "metadata": {},
   "outputs": [],
   "source": [
    "# Final summary\n",
    "print(\"ANALYSIS COMPLETE!\")\n",
    "print(\"=\" * 30)\n",
    "print(f\"Dataset: {len(df)} students analyzed\")\n",
    "print(f\"Best Model: Random Forest (R² = {rf_r2:.3f})\")\n",
    "print(f\"Student Personas: {optimal_k} clusters identified\")\n",
    "print(f\"Model saved: ../models/final_model.pkl\")\n",
    "print(\"\\nReady for dashboard integration!\")"
   ]
  }
 ],
 "metadata": {
  "kernelspec": {
   "display_name": "Python 3",
   "language": "python",
   "name": "python3"
  },
  "language_info": {
   "codemirror_mode": {
    "name": "ipython",
    "version": 3
   },
   "file_extension": ".py",
   "mimetype": "text/x-python",
   "name": "python",
   "nbconvert_exporter": "python",
   "pygments_lexer": "ipython3",
   "version": "3.8.5"
  }
 },
 "nbformat": 4,
 "nbformat_minor": 4
}
